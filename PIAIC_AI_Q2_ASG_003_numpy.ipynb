{
  "nbformat": 4,
  "nbformat_minor": 0,
  "metadata": {
    "colab": {
      "name": "PIAIC-AI-Q2-ASG-003-numpy.ipynb",
      "provenance": [],
      "collapsed_sections": []
    },
    "kernelspec": {
      "name": "python3",
      "display_name": "Python 3"
    }
  },
  "cells": [
    {
      "cell_type": "code",
      "metadata": {
        "id": "1A-4kA7bBnN6"
      },
      "source": [
        "# Read Instructions carefully before attemption this assignment\r\n",
        "\r\n",
        "# 1) don't rename any function name\r\n",
        "# 2) don't rename any variable name\r\n",
        "# 3) don't remove any #comment \r\n",
        "# 4) don't remove \"\"\" under triple quate values \"\"\"\r\n",
        "# 5) you have to write code where you found \"wrtie your code here\"\r\n",
        "# 6) after download rename this file with this format \"PIAICCompletRollNumber_AssignmentNo.py\"\r\n",
        "#   Example piaic17896_Assignment1.py\r\n",
        "# 7) After complete this assignment please push on your own github repository.\r\n",
        "# 8) you can submit this assignment through google form\r\n",
        "# 9) copy your this file absolute url then paste in google form\r\n",
        "#  Example above: https://github.com/EnggQasim/Batch04_to_35/blob/main/Sunday/1_30%20to%203_30/Assignments/assignment1.txt\r\n",
        "\r\n",
        "# * Because all assignment we will be cheked through software if you missed any above points \r\n",
        "# * then we can't assign your scores in our database.\r\n",
        "\r\n",
        "import numpy as np\r\n"
      ],
      "execution_count": 9,
      "outputs": []
    },
    {
      "cell_type": "code",
      "metadata": {
        "colab": {
          "base_uri": "https://localhost:8080/"
        },
        "id": "t3Xa-mXfB_Lu",
        "outputId": "61cf4b91-549f-4e29-c4d4-e007fa35e7db"
      },
      "source": [
        "# Task no 1\r\n",
        "def function1():\r\n",
        "    # create 2d array from 1,12 range \r\n",
        "    # dimension should be 6row 2 columns  \r\n",
        "    # and assign this array values in x values in x variable\r\n",
        "    # Hint: you can use arange and reshape numpy methods  \r\n",
        "    x =  (np.arange(1,13)).reshape(6,2)\r\n",
        "    # print(x)\r\n",
        "    return x\r\n",
        "   \r\n",
        "function1()"
      ],
      "execution_count": 11,
      "outputs": [
        {
          "output_type": "execute_result",
          "data": {
            "text/plain": [
              "array([[ 1,  2],\n",
              "       [ 3,  4],\n",
              "       [ 5,  6],\n",
              "       [ 7,  8],\n",
              "       [ 9, 10],\n",
              "       [11, 12]])"
            ]
          },
          "metadata": {
            "tags": []
          },
          "execution_count": 11
        }
      ]
    },
    {
      "cell_type": "code",
      "metadata": {
        "colab": {
          "base_uri": "https://localhost:8080/"
        },
        "id": "PJ5UhurMqsuq",
        "outputId": "5fd33257-4fa0-4d49-938f-997aee12e389"
      },
      "source": [
        "# Task2\r\n",
        "def function2():\r\n",
        "    #create 3D array (3,3,3)\r\n",
        "    #must data type should have float64\r\n",
        "    #array value should be satart from 10 and end with 36 (both included)\r\n",
        "    # Hint: dtype, reshape \r\n",
        "    x = (np.arange(10,37,dtype=np.float64)).reshape(3,3,3)     #wrtie your code here\r\n",
        "    return x\r\n",
        "\r\n",
        "function2()"
      ],
      "execution_count": 14,
      "outputs": [
        {
          "output_type": "execute_result",
          "data": {
            "text/plain": [
              "array([[[10., 11., 12.],\n",
              "        [13., 14., 15.],\n",
              "        [16., 17., 18.]],\n",
              "\n",
              "       [[19., 20., 21.],\n",
              "        [22., 23., 24.],\n",
              "        [25., 26., 27.]],\n",
              "\n",
              "       [[28., 29., 30.],\n",
              "        [31., 32., 33.],\n",
              "        [34., 35., 36.]]])"
            ]
          },
          "metadata": {
            "tags": []
          },
          "execution_count": 14
        }
      ]
    },
    {
      "cell_type": "code",
      "metadata": {
        "colab": {
          "base_uri": "https://localhost:8080/"
        },
        "id": "FLTME2IDrkj3",
        "outputId": "4caceca1-03fb-4b3c-e8ca-898a904c66d2"
      },
      "source": [
        "#task3\r\n",
        "def function3():\r\n",
        "    #extract those numbers from given array. those are must exist in 5,7 Table\r\n",
        "    #example [35,70,105,..]\r\n",
        "    a = np.arange(1, 100*10+1).reshape((100,10))\r\n",
        "    x = a[( a%5 == 0)  & ( a%7 == 0 )]  #wrtie your code here\r\n",
        "    return x\r\n",
        "\r\n",
        "function3()"
      ],
      "execution_count": 16,
      "outputs": [
        {
          "output_type": "execute_result",
          "data": {
            "text/plain": [
              "array([ 35,  70, 105, 140, 175, 210, 245, 280, 315, 350, 385, 420, 455,\n",
              "       490, 525, 560, 595, 630, 665, 700, 735, 770, 805, 840, 875, 910,\n",
              "       945, 980])"
            ]
          },
          "metadata": {
            "tags": []
          },
          "execution_count": 16
        }
      ]
    },
    {
      "cell_type": "code",
      "metadata": {
        "colab": {
          "base_uri": "https://localhost:8080/"
        },
        "id": "zPpHuMjNsVdZ",
        "outputId": "cb82bb8f-d190-49c1-99c0-b7e206f9c61c"
      },
      "source": [
        "#task4\r\n",
        "def function4():\r\n",
        "    #Swap columns 1 and 2 in the array arr.\r\n",
        "    arr = np.arange(9).reshape(3,3)\r\n",
        "    x = arr[:,[1,0,2]]\r\n",
        "    return x#wrtie your code here\r\n",
        "\r\n",
        "function4()"
      ],
      "execution_count": 20,
      "outputs": [
        {
          "output_type": "execute_result",
          "data": {
            "text/plain": [
              "array([[1, 0, 2],\n",
              "       [4, 3, 5],\n",
              "       [7, 6, 8]])"
            ]
          },
          "metadata": {
            "tags": []
          },
          "execution_count": 20
        }
      ]
    },
    {
      "cell_type": "code",
      "metadata": {
        "colab": {
          "base_uri": "https://localhost:8080/"
        },
        "id": "W405E0prtYa6",
        "outputId": "8cf98c5f-bc99-4e23-f877-07736f6fdfd5"
      },
      "source": [
        "#task5\r\n",
        "def function5():\r\n",
        "    #Create a null vector of size 20 with 4 rows and 5 columns with numpy function\r\n",
        "    z = np.zeros(20,dtype=np.int).reshape(4,5) #wrtie your code here\r\n",
        "    return z\r\n",
        "\r\n",
        "function5()"
      ],
      "execution_count": 21,
      "outputs": [
        {
          "output_type": "execute_result",
          "data": {
            "text/plain": [
              "array([[0, 0, 0, 0, 0],\n",
              "       [0, 0, 0, 0, 0],\n",
              "       [0, 0, 0, 0, 0],\n",
              "       [0, 0, 0, 0, 0]])"
            ]
          },
          "metadata": {
            "tags": []
          },
          "execution_count": 21
        }
      ]
    },
    {
      "cell_type": "code",
      "metadata": {
        "colab": {
          "base_uri": "https://localhost:8080/"
        },
        "id": "RRvI24fStyQN",
        "outputId": "11a2bd70-cc91-4a24-872b-c559c1cab6ae"
      },
      "source": [
        "#task6\r\n",
        "def function6():\r\n",
        "    # Create a null vector of size 10 but the fifth and eighth value which is 10,20 respectively\r\n",
        "    arr = np.zeros(10) #wrtie your code here\r\n",
        "    arr[4] = 10\r\n",
        "    arr[7] = 20\r\n",
        "    return arr\r\n",
        "\r\n",
        "function6()"
      ],
      "execution_count": 24,
      "outputs": [
        {
          "output_type": "execute_result",
          "data": {
            "text/plain": [
              "array([ 0.,  0.,  0.,  0., 10.,  0.,  0., 20.,  0.,  0.])"
            ]
          },
          "metadata": {
            "tags": []
          },
          "execution_count": 24
        }
      ]
    },
    {
      "cell_type": "code",
      "metadata": {
        "colab": {
          "base_uri": "https://localhost:8080/"
        },
        "id": "UYRlbS2huvuv",
        "outputId": "4d442ec6-631b-4aef-a2ff-c86bedaae52e"
      },
      "source": [
        "#task7\r\n",
        "def function7():\r\n",
        "    #  Create an array of zeros with the same shape and type as X. Dont use reshape method\r\n",
        "    x = np.arange(4, dtype=np.int64)\r\n",
        "    y = np.full_like(x,0)\r\n",
        "    return y #write your code here\r\n",
        "\r\n",
        "function7()"
      ],
      "execution_count": 32,
      "outputs": [
        {
          "output_type": "execute_result",
          "data": {
            "text/plain": [
              "array([0, 0, 0, 0])"
            ]
          },
          "metadata": {
            "tags": []
          },
          "execution_count": 32
        }
      ]
    },
    {
      "cell_type": "code",
      "metadata": {
        "colab": {
          "base_uri": "https://localhost:8080/"
        },
        "id": "Zxqz1_oUw4_C",
        "outputId": "8bcd5d66-6f57-4a48-c0b6-f4a398f806ff"
      },
      "source": [
        "#task8\r\n",
        "def function8():\r\n",
        "    # Create a new array of 2x5 uints, filled with 6.\r\n",
        "    x = np.empty((2,5),dtype=np.uint32) #write your code here\r\n",
        "    x.fill(6) #write your code here\r\n",
        "    return x\r\n",
        "\r\n",
        "function8()"
      ],
      "execution_count": 34,
      "outputs": [
        {
          "output_type": "execute_result",
          "data": {
            "text/plain": [
              "array([[6, 6, 6, 6, 6],\n",
              "       [6, 6, 6, 6, 6]], dtype=uint32)"
            ]
          },
          "metadata": {
            "tags": []
          },
          "execution_count": 34
        }
      ]
    },
    {
      "cell_type": "code",
      "metadata": {
        "colab": {
          "base_uri": "https://localhost:8080/"
        },
        "id": "vpP8cQo5xWRl",
        "outputId": "de16adc5-a444-4908-bb30-95170e77b947"
      },
      "source": [
        "#task9\r\n",
        "def function9():\r\n",
        "    # Create an array of 2, 4, 6, 8, ..., 100.\r\n",
        "    a = np.arange(2,101,2)  # write your code here\r\n",
        "    return a\r\n",
        "\r\n",
        "function9()"
      ],
      "execution_count": 36,
      "outputs": [
        {
          "output_type": "execute_result",
          "data": {
            "text/plain": [
              "array([  2,   4,   6,   8,  10,  12,  14,  16,  18,  20,  22,  24,  26,\n",
              "        28,  30,  32,  34,  36,  38,  40,  42,  44,  46,  48,  50,  52,\n",
              "        54,  56,  58,  60,  62,  64,  66,  68,  70,  72,  74,  76,  78,\n",
              "        80,  82,  84,  86,  88,  90,  92,  94,  96,  98, 100])"
            ]
          },
          "metadata": {
            "tags": []
          },
          "execution_count": 36
        }
      ]
    },
    {
      "cell_type": "code",
      "metadata": {
        "colab": {
          "base_uri": "https://localhost:8080/"
        },
        "id": "8A8V_dzpx8V7",
        "outputId": "3fcdc439-832c-4300-c9fb-24ee91698551"
      },
      "source": [
        "#task10\r\n",
        "def function10():\r\n",
        "    # Subtract the 1d array brr from the 2d array arr, such that each item of brr subtracts from respective row of arr.\r\n",
        "    arr = np.array([[3,3,3],[4,4,4],[5,5,5]])\r\n",
        "    brr = np.array([1,2,3])\r\n",
        "    subt = arr-np.vstack(brr) # write your code here \r\n",
        "    return subt\r\n",
        "\r\n",
        "function10()"
      ],
      "execution_count": 37,
      "outputs": [
        {
          "output_type": "execute_result",
          "data": {
            "text/plain": [
              "array([[2, 2, 2],\n",
              "       [2, 2, 2],\n",
              "       [2, 2, 2]])"
            ]
          },
          "metadata": {
            "tags": []
          },
          "execution_count": 37
        }
      ]
    },
    {
      "cell_type": "code",
      "metadata": {
        "colab": {
          "base_uri": "https://localhost:8080/"
        },
        "id": "QA8g3os-0kGq",
        "outputId": "e57b0175-56a1-4f54-f5a0-10cfe68f5e3c"
      },
      "source": [
        "#task11\r\n",
        "def function11():\r\n",
        "    # Replace all odd numbers in arr with -1 without changing arr.\r\n",
        "    arr = np.array([0, 1, 2, 3, 4, 5, 6, 7, 8, 9])\r\n",
        "    ans = np.where((arr % 2) != 0, -1, arr)#write your code here \r\n",
        "    return ans\r\n",
        "\r\n",
        "function11()"
      ],
      "execution_count": 39,
      "outputs": [
        {
          "output_type": "execute_result",
          "data": {
            "text/plain": [
              "array([ 0, -1,  2, -1,  4, -1,  6, -1,  8, -1])"
            ]
          },
          "metadata": {
            "tags": []
          },
          "execution_count": 39
        }
      ]
    },
    {
      "cell_type": "code",
      "metadata": {
        "colab": {
          "base_uri": "https://localhost:8080/"
        },
        "id": "-Paehq7j1R7O",
        "outputId": "d2cb6a43-8c39-4143-d55a-024dc34f96b4"
      },
      "source": [
        "#task12\r\n",
        "def function12():\r\n",
        "    # Create the following pattern without hardcoding. Use only numpy functions and the below input array arr.\r\n",
        "    # HINT: use stacking concept\r\n",
        "    arr = np.array([1,2,3])\r\n",
        "    ans = np.hstack((arr.repeat(3),arr,arr,arr)) #write your code here \r\n",
        "    return ans\r\n",
        "\r\n",
        "function12()"
      ],
      "execution_count": 41,
      "outputs": [
        {
          "output_type": "execute_result",
          "data": {
            "text/plain": [
              "array([1, 1, 1, 2, 2, 2, 3, 3, 3, 1, 2, 3, 1, 2, 3, 1, 2, 3])"
            ]
          },
          "metadata": {
            "tags": []
          },
          "execution_count": 41
        }
      ]
    },
    {
      "cell_type": "code",
      "metadata": {
        "colab": {
          "base_uri": "https://localhost:8080/"
        },
        "id": "S1P8Q6ZK2Dzw",
        "outputId": "874aa157-7774-49c3-869e-5dc9130b5c27"
      },
      "source": [
        "#task13\r\n",
        "def function13():\r\n",
        "    # Set a condition which gets all items between 5 and 10 from arr.\r\n",
        "    arr = np.array([2, 6, 1, 9, 10, 3, 27])\r\n",
        "    ans = arr[(arr > 5) & (arr < 10)] #write your code here \r\n",
        "    return ans\r\n",
        "\r\n",
        "function13()"
      ],
      "execution_count": 42,
      "outputs": [
        {
          "output_type": "execute_result",
          "data": {
            "text/plain": [
              "array([6, 9])"
            ]
          },
          "metadata": {
            "tags": []
          },
          "execution_count": 42
        }
      ]
    },
    {
      "cell_type": "code",
      "metadata": {
        "colab": {
          "base_uri": "https://localhost:8080/"
        },
        "id": "LSp9ZRP62q9P",
        "outputId": "7e1ae875-42f5-49f8-dbe3-1a928b59681e"
      },
      "source": [
        "#task14\r\n",
        "def function14():\r\n",
        "    # Create an 8X3 integer array from a range between 10 to 34 such that the difference between each element is 1 and then Split the array into four equal-sized sub-arrays.\r\n",
        "    # Hint use split method\r\n",
        "    arr = np.arange(10, 34, 1).reshape(8,3) #write reshape code\r\n",
        "    ans = np.array_split(arr,4)  #write your code here \r\n",
        "    return ans\r\n",
        "\r\n",
        "function14()"
      ],
      "execution_count": 67,
      "outputs": [
        {
          "output_type": "execute_result",
          "data": {
            "text/plain": [
              "[array([[10, 11, 12],\n",
              "        [13, 14, 15]]), array([[16, 17, 18],\n",
              "        [19, 20, 21]]), array([[22, 23, 24],\n",
              "        [25, 26, 27]]), array([[28, 29, 30],\n",
              "        [31, 32, 33]])]"
            ]
          },
          "metadata": {
            "tags": []
          },
          "execution_count": 67
        }
      ]
    },
    {
      "cell_type": "code",
      "metadata": {
        "colab": {
          "base_uri": "https://localhost:8080/"
        },
        "id": "RQVfT4-C-L2b",
        "outputId": "a8d5db7b-098f-4b17-b6e0-feee782302c2"
      },
      "source": [
        "#task15\r\n",
        "def function15():\r\n",
        "    #Sort following NumPy array by the second column\r\n",
        "    arr = np.array([[ 8,  2, -2],[-4,  1,  7],[ 6,  3,  9]])\r\n",
        "    ans = arr[arr[:,1].argsort()]#write your code here \r\n",
        "    return ans\r\n",
        "\r\n",
        "function15()"
      ],
      "execution_count": 74,
      "outputs": [
        {
          "output_type": "execute_result",
          "data": {
            "text/plain": [
              "array([[-4,  1,  7],\n",
              "       [ 8,  2, -2],\n",
              "       [ 6,  3,  9]])"
            ]
          },
          "metadata": {
            "tags": []
          },
          "execution_count": 74
        }
      ]
    },
    {
      "cell_type": "code",
      "metadata": {
        "colab": {
          "base_uri": "https://localhost:8080/"
        },
        "id": "OpIQh794DcqS",
        "outputId": "e545b04e-6a51-4132-b233-65c18e5265f1"
      },
      "source": [
        "#task16\r\n",
        "def function16():\r\n",
        "    #Write a NumPy program to join a sequence of arrays along depth.\r\n",
        "    x = np.array([[1], [2], [3]])\r\n",
        "    y = np.array([[2], [3], [4]])\r\n",
        "    ans = np.hstack((x,y)) #write your code here \r\n",
        "    return ans\r\n",
        "\r\n",
        "function16()"
      ],
      "execution_count": 75,
      "outputs": [
        {
          "output_type": "execute_result",
          "data": {
            "text/plain": [
              "array([[1, 2],\n",
              "       [2, 3],\n",
              "       [3, 4]])"
            ]
          },
          "metadata": {
            "tags": []
          },
          "execution_count": 75
        }
      ]
    },
    {
      "cell_type": "code",
      "metadata": {
        "colab": {
          "base_uri": "https://localhost:8080/"
        },
        "id": "nzfmr1O9D1sO",
        "outputId": "2862876b-a5b3-429d-8df7-c93d7494fcc4"
      },
      "source": [
        "#Task17\r\n",
        "def function17():\r\n",
        "    # replace numbers with \"YES\" if it divided by 3 and 5\r\n",
        "    # otherwise it will be replaced with \"NO\"\r\n",
        "    # Hint: np.where\r\n",
        "    arr = np.arange(1,10*10+1).reshape((10,10))\r\n",
        "    ans = np.where((arr%3 ==0) & (arr % 5 == 0) , 'YES' , 'NO')\r\n",
        "    return  ans  # Write Your Code HERE\r\n",
        "\r\n",
        "function17()"
      ],
      "execution_count": 76,
      "outputs": [
        {
          "output_type": "execute_result",
          "data": {
            "text/plain": [
              "array([['NO', 'NO', 'NO', 'NO', 'NO', 'NO', 'NO', 'NO', 'NO', 'NO'],\n",
              "       ['NO', 'NO', 'NO', 'NO', 'YES', 'NO', 'NO', 'NO', 'NO', 'NO'],\n",
              "       ['NO', 'NO', 'NO', 'NO', 'NO', 'NO', 'NO', 'NO', 'NO', 'YES'],\n",
              "       ['NO', 'NO', 'NO', 'NO', 'NO', 'NO', 'NO', 'NO', 'NO', 'NO'],\n",
              "       ['NO', 'NO', 'NO', 'NO', 'YES', 'NO', 'NO', 'NO', 'NO', 'NO'],\n",
              "       ['NO', 'NO', 'NO', 'NO', 'NO', 'NO', 'NO', 'NO', 'NO', 'YES'],\n",
              "       ['NO', 'NO', 'NO', 'NO', 'NO', 'NO', 'NO', 'NO', 'NO', 'NO'],\n",
              "       ['NO', 'NO', 'NO', 'NO', 'YES', 'NO', 'NO', 'NO', 'NO', 'NO'],\n",
              "       ['NO', 'NO', 'NO', 'NO', 'NO', 'NO', 'NO', 'NO', 'NO', 'YES'],\n",
              "       ['NO', 'NO', 'NO', 'NO', 'NO', 'NO', 'NO', 'NO', 'NO', 'NO']],\n",
              "      dtype='<U3')"
            ]
          },
          "metadata": {
            "tags": []
          },
          "execution_count": 76
        }
      ]
    },
    {
      "cell_type": "code",
      "metadata": {
        "colab": {
          "base_uri": "https://localhost:8080/"
        },
        "id": "Z6CV4O3OETFu",
        "outputId": "21ce1ef8-f007-4735-a094-b5404e74a604"
      },
      "source": [
        "#Task18\r\n",
        "def function18():\r\n",
        "    # count values of \"students\" are exist in \"piaic\"\r\n",
        "    piaic = np.arange(100)\r\n",
        "    students = np.array([5,20,50,200,301,7001])\r\n",
        "    x = len(np.intersect1d(piaic,students)) # Write you code Here\r\n",
        "    return x\r\n",
        "\r\n",
        "function18()"
      ],
      "execution_count": 79,
      "outputs": [
        {
          "output_type": "execute_result",
          "data": {
            "text/plain": [
              "3"
            ]
          },
          "metadata": {
            "tags": []
          },
          "execution_count": 79
        }
      ]
    },
    {
      "cell_type": "code",
      "metadata": {
        "colab": {
          "base_uri": "https://localhost:8080/"
        },
        "id": "t6Zi3KDRJp2M",
        "outputId": "3c54e52d-bf37-4ebd-b47f-f960bda1e113"
      },
      "source": [
        "def function19():\r\n",
        "    #Create variable \"X\" from 1,25 (both are included) range values\r\n",
        "    #Convert \"X\" variable dimension into 5 rows and 5 columns\r\n",
        "    #Create one more variable \"W\" copy of \"X\" \r\n",
        "    #Swap \"W\" row and column axis (like transpose)\r\n",
        "    # then create variable \"b\" with value equal to 5\r\n",
        "    # Now return output as \"(X*W)+b:\r\n",
        "\r\n",
        "    X =  np.arange(1,26).reshape(5,5)  # Write your code here\r\n",
        "    W =  X.copy() # Write your code here \r\n",
        "    W = W.transpose()\r\n",
        "    b =  5  # Write your code here\r\n",
        "    output =  (X * W) + b  # Write your code here\r\n",
        "    return output\r\n",
        "\r\n",
        "function19()"
      ],
      "execution_count": 86,
      "outputs": [
        {
          "output_type": "execute_result",
          "data": {
            "text/plain": [
              "array([[  6,  17,  38,  69, 110],\n",
              "       [ 17,  54, 101, 158, 225],\n",
              "       [ 38, 101, 174, 257, 350],\n",
              "       [ 69, 158, 257, 366, 485],\n",
              "       [110, 225, 350, 485, 630]])"
            ]
          },
          "metadata": {
            "tags": []
          },
          "execution_count": 86
        }
      ]
    },
    {
      "cell_type": "code",
      "metadata": {
        "colab": {
          "base_uri": "https://localhost:8080/"
        },
        "id": "vx_YW1j3Mx7P",
        "outputId": "4420edcb-883f-483b-cda5-20121d773ce8"
      },
      "source": [
        "#Task20\r\n",
        "def function20():\r\n",
        "    #apply fuction \"abc\" on each value of Array \"X\"\r\n",
        "    x = np.arange(1,11)\r\n",
        "    def xyz(x):\r\n",
        "        return x*2+3-2\r\n",
        "    return xyz(x) #Write your Code here\r\n",
        "\r\n",
        "function20()"
      ],
      "execution_count": 89,
      "outputs": [
        {
          "output_type": "execute_result",
          "data": {
            "text/plain": [
              "array([ 3,  5,  7,  9, 11, 13, 15, 17, 19, 21])"
            ]
          },
          "metadata": {
            "tags": []
          },
          "execution_count": 89
        }
      ]
    }
  ]
}